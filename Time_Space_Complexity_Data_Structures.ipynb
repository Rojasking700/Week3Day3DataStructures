{
 "cells": [
  {
   "cell_type": "markdown",
   "metadata": {},
   "source": [
    "# Time/Space Complexity - Intro to Data Structures (User Defined)\n",
    "\n",
    "### Topics to discuss today:\n",
    "\n",
    "<ul>\n",
    "    <li>Time and Space Complexity - What is it/How do we measure it</li>\n",
    "    <li>Asymptotic Analysis</li>\n",
    "    <li><strong>Data Structures</strong></li>\n",
    "    <li>Some of the popular sorting algorithms</li>\n",
    "</ul>\n",
    "\n",
    "### Data Structures to discuss:\n",
    "- Arrays\n",
    "- Stacks\n",
    "- Queues\n",
    "- Linked Lists\n",
    "    - Singly Linked Lists\n",
    "    - Traversing A Linked List\n",
    "    - Finding a node in a linked list\n",
    "    - Adding to a linked list\n",
    "- Binary Search Trees\n",
    "    - Construction\n",
    "    - Traversal\n"
   ]
  },
  {
   "cell_type": "markdown",
   "metadata": {},
   "source": [
    "## Time and Space Complexity\n",
    "\n",
    "#### What is it?\n",
    "\n",
    "Time and space complexity is the measure of how much time a given action(function) will take to solve a problem. In the same fashion, we determine how much a given data structure will need in terms of memory allocation. A problem can have multiple solutions and finding the optimal solution for the problem needs to be analyzed in time and space.\n",
    "\n",
    "#### How do we measure Time and Space Complexity?\n",
    "\n",
    "In order to measure time and space complexity we use Asymptotic analysis. The reason for this is because we need a way to measure different algorithms (functions) based on the size of their inputs in a mathmatical way. For example, we could have a function that is computed as f(n) and another that is g(n^2). All things around the function staying constant, the only thing that changes is the size of the input. Below is the chart that shows the different Asymptotic analysis formats. "
   ]
  },
  {
   "cell_type": "markdown",
   "metadata": {},
   "source": [
    "<table style=\"text-align:center;\" class=\"table table-bordered\">\n",
    "<tbody><tr>\n",
    "<td>constant</td>\n",
    "<td>−</td>\n",
    "<td>Ο(1)</td>\n",
    "</tr>\n",
    "<tr>\n",
    "<td>logarithmic</td>\n",
    "<td>−</td>\n",
    "<td>Ο(log n)</td>\n",
    "</tr>\n",
    "<tr>\n",
    "<td>linear</td>\n",
    "<td>−</td>\n",
    "<td>Ο(n)</td>\n",
    "</tr>\n",
    "<tr>\n",
    "<td>Linear Logarithmic</td>\n",
    "<td>−</td>\n",
    "<td>Ο(n log n)</td>\n",
    "</tr>\n",
    "<tr>\n",
    "<td>quadratic</td>\n",
    "<td>−</td>\n",
    "<td>Ο(n<sup>2</sup>)</td>\n",
    "</tr>\n",
    "<tr>\n",
    "<td>cubic</td>\n",
    "<td>−</td>\n",
    "<td>Ο(n<sup>3</sup>)</td>\n",
    "</tr>\n",
    "<tr>\n",
    "<td>polynomial</td>\n",
    "<td>−</td>\n",
    "<td>n<sup>Ο(1)</sup></td>\n",
    "</tr>\n",
    "<tr>\n",
    "<td>exponential</td>\n",
    "<td>−</td>\n",
    "<td>2<sup>Ο(n)</sup></td>\n",
    "</tr>\n",
    "</tbody></table>"
   ]
  },
  {
   "cell_type": "code",
   "execution_count": 3,
   "metadata": {},
   "outputs": [
    {
     "ename": "SyntaxError",
     "evalue": "cannot assign to operator (<ipython-input-3-4c7d0f34d9bd>, line 8)",
     "output_type": "error",
     "traceback": [
      "\u001b[1;36m  File \u001b[1;32m\"<ipython-input-3-4c7d0f34d9bd>\"\u001b[1;36m, line \u001b[1;32m8\u001b[0m\n\u001b[1;33m    O(n) + O(n) = 0(n)\u001b[0m\n\u001b[1;37m    ^\u001b[0m\n\u001b[1;31mSyntaxError\u001b[0m\u001b[1;31m:\u001b[0m cannot assign to operator\n"
     ]
    }
   ],
   "source": [
    "def somefunc(y,x):\n",
    "    for i in range(y):\n",
    "        print(i)\n",
    "        \n",
    "    for j in range(x):\n",
    "        print(j)\n",
    "        \n",
    "O(n) + O(n) = 0(n)"
   ]
  },
  {
   "cell_type": "code",
   "execution_count": null,
   "metadata": {},
   "outputs": [],
   "source": [
    "def somefunc(y,x):\n",
    "    for i in range(y):\n",
    "        print(i)\n",
    "        for j in range(x):\n",
    "        print(j)\n",
    "    \n",
    "        \n",
    "O(n) * O(n) = O(n^2)"
   ]
  },
  {
   "cell_type": "markdown",
   "metadata": {},
   "source": [
    "## Arrays"
   ]
  },
  {
   "cell_type": "markdown",
   "metadata": {},
   "source": [
    "In python we benefit from the dynamic array which means the block of memory will expand as needed for the given input to the array. In traditional arrays (depending on the type of operating system) we will usually store our inputs in 4 or 8 consecutive blocks of memory. Below is a diagram of how that looks under the hood:\n",
    "\n",
    "<img src=\"http://www.mathcs.emory.edu/~cheung/Courses/170/Syllabus/09/FIGS/array02x.gif\" style=\"height:250px; width:350px;\">"
   ]
  },
  {
   "cell_type": "markdown",
   "metadata": {},
   "source": [
    "## Which in python looks like this:"
   ]
  },
  {
   "cell_type": "code",
   "execution_count": 5,
   "metadata": {},
   "outputs": [
    {
     "name": "stdout",
     "output_type": "stream",
     "text": [
      "[23, 4, 6, 15, 5]\n"
     ]
    }
   ],
   "source": [
    "array = [23,4,6,15,5]\n",
    "print(array)"
   ]
  },
  {
   "cell_type": "markdown",
   "metadata": {},
   "source": [
    "### Let's take a look at some of the time and space analysis of arrays"
   ]
  },
  {
   "cell_type": "code",
   "execution_count": 7,
   "metadata": {},
   "outputs": [
    {
     "name": "stdout",
     "output_type": "stream",
     "text": [
      "23\n",
      "4\n",
      "6\n",
      "15\n",
      "5\n"
     ]
    }
   ],
   "source": [
    "#indexing an array(list)\n",
    "#constant time and space = O(1)\n",
    "indexing = array[1]\n",
    "\n",
    "#searching through an array(list)\n",
    "#linear time = O(n) and constant space =O(1)\n",
    "for i in array:\n",
    "    print(i)\n",
    "    \n",
    "#copying an array\n",
    "#linear Time = O(n) and linear space = O(n)\n",
    "copyArray = array[:]\n",
    "\n",
    "#setting an indexs in an array(list)\n",
    "#constant time and constant space = O(1)\n",
    "array[2] = 3"
   ]
  },
  {
   "cell_type": "markdown",
   "metadata": {},
   "source": [
    "## Stacks and Queues (Review)\n",
    "\n",
    "** Stacks ** as the name suggests is a data structure that allows for data to follow the Last In First Out priciple(LIFO). Think of a stack of pancakes for example. To get the first pancake you would  start with the top and go down.\n",
    "\n",
    "##### Searching through a stack will be Linear Time O(n) - Constant Space O(1)\n",
    "##### Selecting the last item will be done in Constant Time O(1) - Constant Space O(1)\n",
    "##### Adding to the stack should take Constant Time O(1) - Constant Space O(1)\n",
    "\n",
    "** Queues ** are similar but in this case follow the First In First Out principle(FIFO). Think of this as a line in a black friday sale. The first person camped out for the big screen tv is the first to get it.\n",
    "\n",
    "##### Searching through a queue will be Linear Time O(n) - Constant Space O(1)\n",
    "##### Selecting the first item will be done in Constant Time O(1) - Constant Space O(1)\n",
    "##### Adding to the queue should take Constant Time O(1) - Constant Space O(1)"
   ]
  },
  {
   "cell_type": "code",
   "execution_count": 11,
   "metadata": {},
   "outputs": [
    {
     "name": "stdout",
     "output_type": "stream",
     "text": [
      "last item pop(40)\n",
      "10\n",
      "20\n",
      "30\n",
      "first item pop(bob)\n"
     ]
    }
   ],
   "source": [
    "stack = []\n",
    "\n",
    "stack.append(10)\n",
    "stack.append(20)\n",
    "stack.append(30)\n",
    "stack.append(40)\n",
    "\n",
    "lastItem = stack.pop()# last in first out prinicpal\n",
    "print(f\"last item pop({lastItem})\")\n",
    "\n",
    "#searching a stack = linear time O(n) = constant space O(1)\n",
    "for i in stack:\n",
    "    print(i)\n",
    "    \n",
    "que= []\n",
    "que.append('bob')\n",
    "que.append('mary')\n",
    "que.append('misty')\n",
    "\n",
    "firstItem = que.pop(0)\n",
    "print(f\"first item pop({firstItem})\")\n",
    "\n",
    "#searching a queue = linear timeO(n) = constatnt space O(n)\n",
    "for i in que:\n",
    "    print(i)"
   ]
  },
  {
   "cell_type": "markdown",
   "metadata": {},
   "source": [
    "## Linked List (Data Structure)\n",
    "\n",
    "A linked list is created by using the node class. We create a Node object and create another class to use this node object. We pass the appropriate values thorugh the node object to point the to the next data elements.\n",
    "\n",
    "There are some advantages and disadvantages with this data structure. **Advantages** Linked Lists can save memory because they can be flexibile with memory management which saves memory. **Disadvantages** Finding or adding to the list requires traversing the entire list."
   ]
  },
  {
   "cell_type": "code",
   "execution_count": 19,
   "metadata": {},
   "outputs": [
    {
     "name": "stdout",
     "output_type": "stream",
     "text": [
      "wed\n",
      "mon\n",
      "tue\n",
      "wed\n"
     ]
    }
   ],
   "source": [
    "class linkedListNode():\n",
    "    def __init__(self,value):\n",
    "        self.value = value\n",
    "        self.next = None\n",
    "        \n",
    "    def traverseList(self):\n",
    "        node = self\n",
    "        while node != None:\n",
    "            print(node.value)\n",
    "            node = node.next\n",
    "    \n",
    "node1 = linkedListNode('mon')\n",
    "node2 = linkedListNode('tue')\n",
    "node3 = linkedListNode('wed') \n",
    "\n",
    "node1.next = node2\n",
    "node2.next = node3\n",
    "print(node1.next.next.value)\n",
    "\n",
    "node1.traverseList()"
   ]
  },
  {
   "cell_type": "code",
   "execution_count": 35,
   "metadata": {},
   "outputs": [],
   "source": [
    "#a complete implementation of a linked list \n",
    "\n",
    "#2 components to this solytion -- a node slass and a linked list class\n",
    "\n",
    "class Node():\n",
    "    def __init__(self,value):\n",
    "        self.value = value\n",
    "        self.next = None\n",
    "        \n",
    "class LinkedList():\n",
    "    def __init__(self):\n",
    "        self.head = None\n",
    "        \n",
    "    def pushOn(self,newValue):\n",
    "        newNode = Node(newValue) #create a new node instance\n",
    "        newNode.next = self.head # set the next attribute of new node to current front of list\n",
    "        self.head = newNode #set fron of list to our new node\n",
    "        \n",
    "    def insertAfter(self,prevNode, newValue):\n",
    "        #Check if the previous node even exists\n",
    "        if prevNose is None:\n",
    "            print(\"the given node must be empty\")\n",
    "            return\n",
    "        #If the node is not empty, creat a new node\n",
    "        newNode = Node(newValue)\n",
    "        \n",
    "        #update the new node's to next point to point to previous node's old next\n",
    "        newNode.next = prevNode.next\n",
    "        \n",
    "        #update the previous node to point to the new nose's value\n",
    "        prevNode.next = newNode\n",
    "        \n",
    "    #this method will append a new node to the end of the linked list\n",
    "    def append(self, newValue):\n",
    "        #create a new instance of node\n",
    "        newNode = Node(newValue)\n",
    "        \n",
    "        #check if the linked list is empty\n",
    "        #if so, make THIS new node the head node (thebeginning of the linked list)\n",
    "        if self.head is None:\n",
    "            self.head = newNode\n",
    "        #BUT if the list is NOW empty - traverse to the end \n",
    "        #and add the new node to the end of the list\n",
    "        \n",
    "        last = self.head \n",
    "        \n",
    "        #while last.next is not None -> continue to loop until we find a none value\n",
    "        while last.next:\n",
    "            last = last.next\n",
    "            \n",
    "            \n",
    "        #change current last node next value to point to the new node\n",
    "        last.next = newNode\n",
    "        \n",
    "    def traverse(self):\n",
    "        temp = self.head\n",
    "        #while temp is NOT none -> keep looping through the links until you reach a None value\n",
    "        while temp:\n",
    "            print(temp.value)\n",
    "            temp = temp.next"
   ]
  },
  {
   "cell_type": "code",
   "execution_count": 38,
   "metadata": {},
   "outputs": [
    {
     "ename": "AttributeError",
     "evalue": "'LinkedList' object has no attribute 'headNext'",
     "output_type": "error",
     "traceback": [
      "\u001b[1;31m---------------------------------------------------------------------------\u001b[0m",
      "\u001b[1;31mAttributeError\u001b[0m                            Traceback (most recent call last)",
      "\u001b[1;32m<ipython-input-38-507b874e346a>\u001b[0m in \u001b[0;36m<module>\u001b[1;34m\u001b[0m\n\u001b[0;32m      6\u001b[0m \u001b[0mweekdayLinks\u001b[0m\u001b[1;33m.\u001b[0m\u001b[0mappend\u001b[0m\u001b[1;33m(\u001b[0m\u001b[1;34m'wed'\u001b[0m\u001b[1;33m)\u001b[0m\u001b[1;33m\u001b[0m\u001b[1;33m\u001b[0m\u001b[0m\n\u001b[0;32m      7\u001b[0m \u001b[1;33m\u001b[0m\u001b[0m\n\u001b[1;32m----> 8\u001b[1;33m \u001b[0mweekdayLinks\u001b[0m\u001b[1;33m.\u001b[0m\u001b[0minsertAfter\u001b[0m\u001b[1;33m(\u001b[0m\u001b[0mweekdayLinks\u001b[0m\u001b[1;33m.\u001b[0m\u001b[0mheadNext\u001b[0m\u001b[1;33m,\u001b[0m \u001b[1;34m'wed'\u001b[0m\u001b[1;33m)\u001b[0m\u001b[1;33m\u001b[0m\u001b[1;33m\u001b[0m\u001b[0m\n\u001b[0m\u001b[0;32m      9\u001b[0m \u001b[0mweekday\u001b[0m\u001b[1;33m.\u001b[0m\u001b[0mtraverse\u001b[0m\u001b[1;33m(\u001b[0m\u001b[1;33m)\u001b[0m\u001b[1;33m\u001b[0m\u001b[1;33m\u001b[0m\u001b[0m\n",
      "\u001b[1;31mAttributeError\u001b[0m: 'LinkedList' object has no attribute 'headNext'"
     ]
    }
   ],
   "source": [
    "weekdayLinks = LinkedList()\n",
    "\n",
    "#insert new days into the list\n",
    "weekdayLinks.pushOn('mon')\n",
    "weekdayLinks.append('tues')\n",
    "weekdayLinks.append('wed')\n",
    "\n",
    "weekdayLinks.insertAfter(weekdayLinks.headNext, 'wed')\n",
    "weekday.traverse()\n"
   ]
  },
  {
   "cell_type": "markdown",
   "metadata": {},
   "source": [
    "## Binary Search Trees"
   ]
  },
  {
   "cell_type": "code",
   "execution_count": 44,
   "metadata": {},
   "outputs": [],
   "source": [
    "class BST():\n",
    "    def __init__(self,value):\n",
    "        self.value = value #current value\n",
    "        self.left = None\n",
    "        self.right = None\n",
    "        \n",
    "    def insert(self,value):\n",
    "        #if value is less than root node\n",
    "        if value < self.value:\n",
    "            #chech if root node has a left attribute\n",
    "            if self.left is None:\n",
    "                #if not, create new node as left\n",
    "                self.left = BST(value)\n",
    "            else:\n",
    "                #if not, move to left and try again\n",
    "                self.left.insert(value)\n",
    "        #if value is greater than or wqual to root node\n",
    "        else:\n",
    "            #check if root node had right\n",
    "            if self.right is None:\n",
    "                #if not, create new node as right\n",
    "                self.right = BST(value)\n",
    "            else:\n",
    "                #if so, move to right and try again\n",
    "                self.right.insert(value)\n",
    "        return self\n",
    "    \n",
    "    def contains(self, value):\n",
    "        \"\"\"\n",
    "        this method accepts an int for its value\n",
    "        the value parameter is what we are looking for inside of the BST structure\n",
    "        return boolean\n",
    "        \"\"\"\n",
    "        \n",
    "        #check if value is less than root node\n",
    "        if value < self.value:\n",
    "            #if node does not have a left, we know that our value is not in BST\n",
    "            if self.left is None:\n",
    "                return False\n",
    "            else:\n",
    "                #move to left and try again\n",
    "                return self.left.contains(value)\n",
    "        elif value > self.value:\n",
    "            if self.right is None:\n",
    "                return False\n",
    "            else:\n",
    "                return self.right.contains(value)\n",
    "        #if not less than or greater then, must equal to \n",
    "        else:\n",
    "            return True\n",
    "        \n",
    "    def getMinValue(self):\n",
    "        #if no nodes to the left, this is the min value\n",
    "        if self.left is None:\n",
    "            return self.value\n",
    "        else:\n",
    "            #otherwise, move to left and try again\n",
    "            return self.left.getMinValue()\n",
    "        \n",
    "    def getMaxValue(self):\n",
    "        if self.right is None:\n",
    "            return self.value\n",
    "        else:\n",
    "            return self.right.getMaxValue()\n",
    "        \n",
    "    def remove(self,value,partent=None):\n",
    "        if value < self.value:\n",
    "            if self.left is not None:\n",
    "                self.left.remove(value,self)\n",
    "            elif value > self.value:\n",
    "                if self.right is not None:\n",
    "                    self.right.remove(value, self)\n",
    "            else:\n",
    "                if self.left is not None and self.right is not None:\n",
    "                    self.value = self.right.getminValue()\n",
    "                    self.right.remove(selv.value, self)\n",
    "                elif parent is None:\n",
    "                    if self.left is not None:\n",
    "                        self.value = self.left.value\n",
    "                        self.right = self.left.right\n",
    "                        self.left = self.left.left\n",
    "                    elif self.right is not None:\n",
    "                        self.value = self.right.value\n",
    "                        self.left = self.right.left\n",
    "                        self.right = self.right.right\n",
    "                    else:\n",
    "                        self.value = None\n",
    "                        \n",
    "                elif parent.left == self:\n",
    "                    parent.left = self.left if self.left is not None else self.right\n",
    "                    \n",
    "                elif parent.left == self:\n",
    "                    parent.right = self.left if self.left is not None else self.right\n",
    "                \n",
    "            return self"
   ]
  },
  {
   "cell_type": "code",
   "execution_count": 92,
   "metadata": {},
   "outputs": [],
   "source": [
    "bstExample = BST(35)\n",
    "bstExample.insert(40)\n",
    "bstExample.insert(45)\n",
    "bstExample.insert(50)\n",
    "\n",
    "bstExample.contains(40)\n",
    "bstExample.remove(40)"
   ]
  },
  {
   "cell_type": "markdown",
   "metadata": {},
   "source": [
    "# Homework"
   ]
  },
  {
   "cell_type": "markdown",
   "metadata": {},
   "source": [
    "#### Problem 1: Linked Lists\n",
    "\n",
    "Using the above examples as a guide, create your own interpretation of the a Linked List class. You can not use the code above exactly, but again it can be used as a guide. This problem requires you to think about how a linked list works and create one using your own logic.\n",
    "\n",
    "*Remember* A Linked List is a list of Nodes that point to the next node in the chain. The first Node starts out as Empty(None) and each node after points to the next.\n",
    "\n",
    "Your Linked List should have a traverse method and have the ability to add a new node"
   ]
  },
  {
   "cell_type": "code",
   "execution_count": 85,
   "metadata": {},
   "outputs": [
    {
     "name": "stdout",
     "output_type": "stream",
     "text": [
      "driver\n",
      "coal\n",
      "cement\n",
      "lumber\n",
      "steel\n"
     ]
    }
   ],
   "source": [
    "#this compares the linked list to train \n",
    "# train = linked list\n",
    "# car = node\n",
    "# cargo = next value\n",
    "# lead = head\n",
    "class Car():\n",
    "    def __init__(self, cargo):\n",
    "        self.cargo = cargo\n",
    "        self.next = None\n",
    "        \n",
    "class Train():\n",
    "    def __init__(self):\n",
    "        self.lead = None\n",
    "        \n",
    "    def leadCar(self, newCargo):#adds leading car to the train \n",
    "        newCar = Car(newCargo) #adds cargo to train car\n",
    "        newCar.next = self.lead #sets the next car to the front of the train\n",
    "        self.lead = newCar #sets gives car lead position \n",
    "    \n",
    "    def addCarAfter(self, prevCar, newCargo):\n",
    "        if prevCar is None: #checks if there is a car before it \n",
    "            print(\"There is no car before this one\")\n",
    "            return #ends the function\n",
    "        \n",
    "        newCar = Car(newCargo) #makes new car and adds cargo to it \n",
    "        newCar.next = prevCar.next #links the car to the next car\n",
    "        prevCar.next = newCar\n",
    "        \n",
    "    def addCar(self, newCargo):#adds a new car to the train\n",
    "        newCar = Car(newCargo) #creates the new car\n",
    "        \n",
    "        if self.lead is None: #if a train doesnt already exist \n",
    "            self.lead = newCar # this makes the car the new lead car\n",
    "            \n",
    "        #if the train isn't empty the new car will traverse and be the caboose\n",
    "        caboose = self.lead\n",
    "        \n",
    "        #while caboose.next is not None the loop will continue until we find the None value\n",
    "        while caboose.next:\n",
    "            caboose = caboose.next\n",
    "            \n",
    "        caboose.next = newCar #change current caboose cargo to point to the new car\n",
    "        \n",
    "    def traverse(self):\n",
    "        cargo = self.lead\n",
    "        #while cargo isn't none it will keep goin through the train until it reaches an empty car\n",
    "        while cargo:\n",
    "            print(cargo.cargo)\n",
    "            cargo = cargo.next\n",
    "        \n",
    "        \n",
    "freightTrain = Train()\n",
    "\n",
    "freightTrain.leadCar('driver')\n",
    "freightTrain.addCar('coal')\n",
    "freightTrain.addCar('lumber')\n",
    "freightTrain.addCar('steel')\n",
    "freightTrain.addCarAfter(freightTrain.lead.next, 'cement')\n",
    "freightTrain.traverse()\n"
   ]
  },
  {
   "cell_type": "markdown",
   "metadata": {},
   "source": [
    "#### Problem 2: Binary Search Tree\n",
    "\n",
    "Using the above examples as a guide, create your own interpretation of the a Binary Search Tree class. You can not use the code above exactly, but again it can be used as a guide. This problem requires you to think about how a Binary Search Tree works and create one using your own logic.\n",
    "\n",
    "*Remember* Binary Search Trees start with a head node and each node to the left of that will be smaller, each node to the right of it will be greater. The far left node should be the lowest number(if one exists) that is available. The far right node (if one exists) should be the greatest number"
   ]
  },
  {
   "cell_type": "markdown",
   "metadata": {},
   "source": [
    "# pyrimid scheme "
   ]
  },
  {
   "cell_type": "code",
   "execution_count": 120,
   "metadata": {},
   "outputs": [
    {
     "name": "stdout",
     "output_type": "stream",
     "text": [
      "rich 375\n",
      "rich 450\n",
      "poor 375\n",
      "poor 250\n",
      "rich 650\n",
      "poor 150\n",
      "poorest 50\n",
      "richest 800\n",
      "g\n",
      "a\n",
      "a\n",
      "a\n"
     ]
    },
    {
     "data": {
      "text/plain": [
       "<__main__.pyrimidScheme at 0x24a81422970>"
      ]
     },
     "execution_count": 120,
     "metadata": {},
     "output_type": "execute_result"
    }
   ],
   "source": [
    "#this compares the binary seach to the recruitment of a pyrimid scheme and how much they contibute\n",
    "# poor = left (because they contribute less than the other)\n",
    "# rich = right (becasue they contribute more than the other)\n",
    "# remove fumction was confusing me i tried to throw it into python tutor but it skips over the whole function\n",
    "# i umderstand how it works visually but the code is a little confusing i did my best to comment what i thought was happening\n",
    "\n",
    "class pyrimidScheme():\n",
    "    \n",
    "    def __init__(self, member):\n",
    "        self.member = member #current members contribution\n",
    "        self.poor = None\n",
    "        self.rich = None\n",
    "        \n",
    "    def newMember(self, member):\n",
    "        if member < self.member: #if member contributes more than the root member\n",
    "            if self.poor is None:# check if root member has poor member \n",
    "                self.poor = pyrimidScheme(member) #if not then create a new member as poor\n",
    "                print(f\"poor {self.member}\")\n",
    "            else:\n",
    "                self.poor.newMember(member) #if so start there and look again\n",
    "                \n",
    "        else: #if member contributes more or equal to the root member\n",
    "            if self.rich is None: #check if root member had rich member\n",
    "                self.rich = pyrimidScheme(member)#if not, create new member as rich\n",
    "                print(f\"rich {self.member}\")\n",
    "            else:\n",
    "                self.rich.newMember(member) #if so start there and look again\n",
    "        \n",
    "        return self\n",
    "    \n",
    "    def findMember(self, member):\n",
    "        #looks for member in the pyrimid scheme\n",
    "        \n",
    "        if member < self.member: #checks if member contributes less than the root member\n",
    "            if self.poor is None:#if member does not have a poor member we know that they are not in not in the pyrimid scheme\n",
    "                return False\n",
    "            else:\n",
    "                return self.poor.findMember(member) # look for the poor member and try again\n",
    "        \n",
    "        elif member > self.member: #checks if the member contributes more than the root member \n",
    "            if self.rich is None: #if member does not have a rich member we know thay they are not in the pyrimid \n",
    "                return False\n",
    "            else:\n",
    "                return self.rich.findMember(member) # look for the rich member and try again\n",
    "        else:\n",
    "            return True\n",
    "        \n",
    "    def poorestMember(self):\n",
    "        if self.poor is None: #if no poorer members this is the poorest member\n",
    "            print(f\"poorest {self.member}\")\n",
    "            return self.member\n",
    "        else: #if not the go to the poorest member and try again\n",
    "            return self.poor.poorestMember()\n",
    "            \n",
    "    def richestMember(self):\n",
    "        if self.rich is None: #if no richer this is the richest member\n",
    "            print(f\"richest {self.member}\")\n",
    "            return self.member\n",
    "        else:\n",
    "            return self.rich.richestMember()\n",
    "    \n",
    "    def remove(self,member,parent=None): # removes any member that has not paid their dues\n",
    "        \n",
    "        if member < self.member: #checks if member contributes less than the root member\n",
    "            if self.poor is not None: #checks if there is not poorer member \n",
    "                self.poor.remove(member,self) #if so then it moves on and looks again \n",
    "                print(\"a\")\n",
    "                \n",
    "        elif member > self.member: #checks if member contributes more than the root member\n",
    "            if self.rich is not None: #checks if there is not a richer member\n",
    "                self.rich.remove(member,self)#if so then it moves on and looks again \n",
    "                print(\"b\")\n",
    "                \n",
    "        else:\n",
    "            if self.poor is not None and self.rich is not None: #checks to see if there no poorer or richer members\n",
    "                self.member = self.rich.poorestMember()\n",
    "                self.rich.remove(self.member, self)\n",
    "                print(\"c\")\n",
    "            elif parent is None: #once it is none it will re adjust the poor and rich of that member\n",
    "                if self.poor is not None:\n",
    "                    self.member = self.poor.member\n",
    "                    self.rich = self.poor.rich     #moves poorest up \n",
    "                    self.poor = self.poor.poor\n",
    "                    print(\"d\")\n",
    "                elif self.rich is not None:\n",
    "                    self.member = self.poor.member\n",
    "                    self.poor = self.rich.poor      #moves richest up \n",
    "                    self.rich = self.rich.rich\n",
    "                    print(\"e\")\n",
    "                else:\n",
    "                    self.member = None\n",
    "                    print(\"f\")\n",
    "            elif parent.poor == self:\n",
    "                print(\"g\")\n",
    "                parent.poor = self.poor if self.poor is not None else self.rich\n",
    "            elif parent.rich == self:\n",
    "                print(\"h\")\n",
    "                parent.rich = self.poor if self.poor is not None else self.rich\n",
    "        return self\n",
    "    \n",
    "    \n",
    "    \n",
    "newScheme = pyrimidScheme(375)\n",
    "newScheme.newMember(450)\n",
    "newScheme.newMember(650)\n",
    "newScheme.newMember(250)\n",
    "newScheme.newMember(150)\n",
    "newScheme.newMember(800)\n",
    "newScheme.newMember(50)\n",
    "newScheme.poorestMember()\n",
    "newScheme.richestMember()\n",
    "\n",
    "newScheme.findMember(450)\n",
    "newScheme.remove(50)"
   ]
  },
  {
   "cell_type": "code",
   "execution_count": null,
   "metadata": {},
   "outputs": [],
   "source": []
  }
 ],
 "metadata": {
  "kernelspec": {
   "display_name": "Python 3",
   "language": "python",
   "name": "python3"
  },
  "language_info": {
   "codemirror_mode": {
    "name": "ipython",
    "version": 3
   },
   "file_extension": ".py",
   "mimetype": "text/x-python",
   "name": "python",
   "nbconvert_exporter": "python",
   "pygments_lexer": "ipython3",
   "version": "3.8.5"
  }
 },
 "nbformat": 4,
 "nbformat_minor": 2
}
